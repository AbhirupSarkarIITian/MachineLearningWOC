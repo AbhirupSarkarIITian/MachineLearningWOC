{
 "cells": [
  {
   "cell_type": "code",
   "execution_count": 1,
   "metadata": {},
   "outputs": [
    {
     "data": {
      "text/plain": [
       "array([ 5,  9,  8, 10,  3,  1,  4,  6,  2,  7])"
      ]
     },
     "execution_count": 1,
     "metadata": {},
     "output_type": "execute_result"
    }
   ],
   "source": [
    "import pandas as pd\n",
    "import numpy as np\n",
    "train_data=pd.read_csv(r\"C:\\Users\\Abhi9\\OneDrive\\Documents\\.vscode\\c progrmming\\Python\\MachineLearning\\WOC\\nn_train.csv\")\n",
    "test_data=pd.read_csv(r\"C:\\Users\\Abhi9\\OneDrive\\Documents\\.vscode\\c progrmming\\Python\\MachineLearning\\WOC\\nn_test.csv\")\n",
    "train_data[\"class_label\"].unique()"
   ]
  },
  {
   "cell_type": "code",
   "execution_count": 18,
   "metadata": {},
   "outputs": [
    {
     "name": "stdout",
     "output_type": "stream",
     "text": [
      "(80000, 1024) (1, 80000)\n"
     ]
    },
    {
     "data": {
      "text/plain": [
       "(20000, 1025)"
      ]
     },
     "execution_count": 18,
     "metadata": {},
     "output_type": "execute_result"
    }
   ],
   "source": [
    "dropped_train=train_data.drop(['ID'],axis=1)\n",
    "train_data_class_label=dropped_train.drop(['binary_label'],axis=1)\n",
    "x_train=train_data_class_label.iloc[:,:-1].values\n",
    "row=x_train.shape[0]\n",
    "y_train=train_data_class_label.iloc[:,-1].values.reshape(1,row)\n",
    "x_test=test_data.drop(['ID'],axis=1).values\n",
    "print(x_train.shape,y_train.shape)\n",
    "test_data.shape"
   ]
  },
  {
   "cell_type": "code",
   "execution_count": 3,
   "metadata": {},
   "outputs": [],
   "source": [
    "def relu(z):\n",
    "    return np.maximum(0,z)"
   ]
  },
  {
   "cell_type": "code",
   "execution_count": 4,
   "metadata": {},
   "outputs": [],
   "source": [
    "def softmax(Z):\n",
    "    exp_Z = np.exp(Z - np.max(Z, axis=0, keepdims=True))  # Stability trick\n",
    "    return exp_Z / np.sum(exp_Z, axis=0, keepdims=True)"
   ]
  },
  {
   "cell_type": "code",
   "execution_count": 5,
   "metadata": {},
   "outputs": [],
   "source": [
    "def backward_propagation(X, Y_one_hot,Z1,A1,Z2,A2, W1, W2):\n",
    "    m = X.shape[1]\n",
    "\n",
    "    dZ2 = A2 - Y_one_hot\n",
    "    dW2 = np.dot(dZ2, A1.T) / m\n",
    "    db2 = np.sum(dZ2, axis=1, keepdims=True) / m\n",
    "\n",
    "    dA1 = np.dot(W2.T, dZ2)\n",
    "    dZ1 = dA1 * (Z1 > 0)  # Derivative of ReLU\n",
    "    dW1 = np.dot(dZ1, X.T) / m\n",
    "    db1 = np.sum(dZ1, axis=1, keepdims=True) / m\n",
    "    return dW1, db1, dW2, db2\n"
   ]
  },
  {
   "cell_type": "code",
   "execution_count": 6,
   "metadata": {},
   "outputs": [],
   "source": [
    "def predict(x_, w1, b1, w2, b2):\n",
    "    z1=w1@x_+b1\n",
    "    a1=relu(z1)\n",
    "    z2=w2@a1 + b2\n",
    "    a2=softmax(z2)\n",
    "    predictions = np.argmax(a2, axis=0) + 1  # Add 1 to match class labels (1-10)\n",
    "    return predictions\n"
   ]
  },
  {
   "cell_type": "code",
   "execution_count": 12,
   "metadata": {},
   "outputs": [],
   "source": [
    "epochs=300\n",
    "hidden_layer=5\n",
    "n,m=x_train.T.shape\n",
    "classes=10\n",
    "learning_rate=0.01\n",
    "w1=np.random.randn(hidden_layer,n)*0.01\n",
    "b1=np.zeros((hidden_layer,1))*0.01\n",
    "w2=np.random.randn(classes+1,hidden_layer)*0.01\n",
    "b2=np.zeros((classes+1,1))\n",
    "y_one_hot=np.eye(classes+1)[y_train.T.reshape(-1)].T\n"
   ]
  },
  {
   "cell_type": "code",
   "execution_count": 13,
   "metadata": {},
   "outputs": [
    {
     "name": "stdout",
     "output_type": "stream",
     "text": [
      "Epoch 0, Loss: 2.399828599858363\n",
      "Epoch 10, Loss: 2.3633484802099183\n",
      "Epoch 20, Loss: 2.396330052574053\n",
      "Epoch 30, Loss: 2.39545299561284\n",
      "Epoch 40, Loss: 2.3945934778268785\n",
      "Epoch 50, Loss: 2.3937491236588824\n",
      "Epoch 60, Loss: 2.392919675607183\n",
      "Epoch 70, Loss: 2.39210453276131\n",
      "Epoch 80, Loss: 2.391303202215943\n",
      "Epoch 90, Loss: 2.3905153444827065\n",
      "Epoch 100, Loss: 2.3897407355005984\n",
      "Epoch 110, Loss: 2.388978883071103\n",
      "Epoch 120, Loss: 2.388229282676752\n",
      "Epoch 130, Loss: 2.387491051907748\n",
      "Epoch 140, Loss: 2.3867644237063916\n",
      "Epoch 150, Loss: 2.386048667530919\n",
      "Epoch 160, Loss: 2.3853414688947354\n",
      "Epoch 170, Loss: 2.3846369222133648\n",
      "Epoch 180, Loss: 2.3838925382298988\n",
      "Epoch 190, Loss: 2.3833284323708024\n",
      "Epoch 200, Loss: 2.3826709762633027\n",
      "Epoch 210, Loss: 2.3820237177210415\n",
      "Epoch 220, Loss: 2.3813864273990073\n",
      "Epoch 230, Loss: 2.3807588780312163\n",
      "Epoch 240, Loss: 2.3801408484283235\n",
      "Epoch 250, Loss: 2.3795321379387238\n",
      "Epoch 260, Loss: 2.3789325424811865\n",
      "Epoch 270, Loss: 2.3783418636805744\n",
      "Epoch 280, Loss: 2.3777598946700818\n",
      "Epoch 290, Loss: 2.3771864930171884\n"
     ]
    }
   ],
   "source": [
    "for i in range(epochs):\n",
    "    z1=w1@x_train.T+b1\n",
    "    a1=relu(z1)\n",
    "    z2=w2@a1 + b2\n",
    "    a2=softmax(z2)\n",
    "    loss = -np.sum(y_one_hot * np.log(a2 + 1e-9)) / m\n",
    "    dW1, db1, dW2, db2 = backward_propagation(x_train.T, y_one_hot, z1,a1,z2,a2, w1, w2)\n",
    "    w1-=learning_rate*dW1\n",
    "    w2-=learning_rate*dW2\n",
    "    b1-=learning_rate*db1\n",
    "    b2-=learning_rate*db2\n",
    "    if i % 10 == 0:\n",
    "        print(f\"Epoch {i}, Loss: {loss}\")\n",
    "    "
   ]
  },
  {
   "cell_type": "code",
   "execution_count": 14,
   "metadata": {},
   "outputs": [],
   "source": [
    "prediction=predict(x_test.T,w1,b1,w2,b2)\n",
    "    "
   ]
  },
  {
   "cell_type": "code",
   "execution_count": 34,
   "metadata": {},
   "outputs": [],
   "source": [
    "predicted_class_label=predict(x_test.T,w1,b1,w2,b2)\n",
    "predicted_class_label_=pd.DataFrame(predicted_class_label.reshape((20000,1)))\n",
    "predicted_class_label_=predicted_class_label.reshape(20000,1)\n",
    "predicted_class_label__=pd.DataFrame(predicted_class_label_)"
   ]
  },
  {
   "cell_type": "code",
   "execution_count": 35,
   "metadata": {},
   "outputs": [
    {
     "data": {
      "text/plain": [
       "(20000, 1026)"
      ]
     },
     "execution_count": 35,
     "metadata": {},
     "output_type": "execute_result"
    }
   ],
   "source": [
    "predicted_binary_label_through_Neural_Network=test_data.join(predicted_class_label__)\n",
    "predicted_binary_label_through_Neural_Network.shape"
   ]
  },
  {
   "cell_type": "code",
   "execution_count": 36,
   "metadata": {},
   "outputs": [],
   "source": [
    "\n",
    "predicted_binary_label_through_Neural_Network.to_csv('predicted_class_label_through_Neural_Network.csv')"
   ]
  },
  {
   "cell_type": "code",
   "execution_count": null,
   "metadata": {},
   "outputs": [],
   "source": []
  }
 ],
 "metadata": {
  "kernelspec": {
   "display_name": "Python 3",
   "language": "python",
   "name": "python3"
  },
  "language_info": {
   "codemirror_mode": {
    "name": "ipython",
    "version": 3
   },
   "file_extension": ".py",
   "mimetype": "text/x-python",
   "name": "python",
   "nbconvert_exporter": "python",
   "pygments_lexer": "ipython3",
   "version": "3.13.1"
  }
 },
 "nbformat": 4,
 "nbformat_minor": 2
}
